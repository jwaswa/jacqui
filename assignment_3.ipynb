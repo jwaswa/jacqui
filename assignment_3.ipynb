{
  "nbformat": 4,
  "nbformat_minor": 0,
  "metadata": {
    "kernelspec": {
      "display_name": "Python 3",
      "language": "python",
      "name": "python3"
    },
    "language_info": {
      "codemirror_mode": {
        "name": "ipython",
        "version": 3
      },
      "file_extension": ".py",
      "mimetype": "text/x-python",
      "name": "python",
      "nbconvert_exporter": "python",
      "pygments_lexer": "ipython3",
      "version": "3.8.5"
    },
    "colab": {
      "name": "assignment 3.ipynb",
      "provenance": [],
      "include_colab_link": true
    }
  },
  "cells": [
    {
      "cell_type": "markdown",
      "metadata": {
        "id": "view-in-github",
        "colab_type": "text"
      },
      "source": [
        "<a href=\"https://colab.research.google.com/github/jwaswa/jacqui/blob/main/assignment_3.ipynb\" target=\"_parent\"><img src=\"https://colab.research.google.com/assets/colab-badge.svg\" alt=\"Open In Colab\"/></a>"
      ]
    },
    {
      "cell_type": "code",
      "metadata": {
        "id": "4Wkg7wu9tRgm"
      },
      "source": [
        "cqui"
      ],
      "execution_count": null,
      "outputs": []
    },
    {
      "cell_type": "code",
      "metadata": {
        "colab": {
          "base_uri": "https://localhost:8080/"
        },
        "id": "N-N8r7MDtK-e",
        "outputId": "f5c24a1b-4940-4057-f3db-a4beae22c874"
      },
      "source": [
        "#Enter full names\n",
        "print(\"Enter first name: \")\n",
        "fname = input()\n",
        "\n",
        "print(\"Enter last name: \")\n",
        "lname = input()\n",
        "\n",
        "fullnames = fname + \" \" + lname \n",
        "\n",
        "#enter phone,email\n",
        "print(\"Enter customer's phone number\")\n",
        "phone=input(\"phone\")\n",
        "print(\"Enter customer's email address\")\n",
        "email=input(\"email\")\n",
        "\n",
        "#price of used car\n",
        "price = 10000\n",
        "has_good_credit= True\n",
        "\n",
        "''' if has_good_credit:\n",
        "    down_payment = 0.1 * price\n",
        "else:\n",
        "    down_payment = 0.2 * price\n",
        "    \n",
        "    print(f\"Down Payment: {down_payment}\")\n",
        "    print(\"\")\n",
        "    print(\"Full Names:\" +fullnames)\n",
        "    print(\"Phone:\" +phone)\n",
        "    print(\"Email:\" +email)\n",
        "    print(\"Down Payment: \", +down_payment)'''\n",
        "\n",
        "if has_good_credit:\n",
        "    down_payment = 0.1 * price\n",
        "else:\n",
        "    down_payment = 0.2 * price\n",
        "\n",
        "print(f\"Down Payment: {down_payment}\")\n",
        "print('')\n",
        "print(\"Full Names:\" +fullnames)\n",
        "print(\"Phone: \" + phone)\n",
        "print(\"Email: \" + email)\n",
        "print(\"Down Payment: \", down_payment)\n",
        "    \n",
        "    \n",
        "    \n",
        "    "
      ],
      "execution_count": 11,
      "outputs": [
        {
          "output_type": "stream",
          "text": [
            "Enter first name: \n",
            "hh\n",
            "Enter last name: \n",
            "uuu\n",
            "Enter customer's phone number\n",
            "phone77777\n",
            "Enter customer's email address\n",
            "email7@yahoo\n",
            "Down Payment: 1000.0\n",
            "\n",
            "Full Names:hh uuu\n",
            "Phone: 77777\n",
            "Email: 7@yahoo\n",
            "Down Payment:  1000.0\n"
          ],
          "name": "stdout"
        }
      ]
    },
    {
      "cell_type": "code",
      "metadata": {
        "id": "uboLimVJtK-t"
      },
      "source": [
        "#Enter Full Names\n",
        "print(\"Enter First Name:\")\n",
        "fname = input() #First Name"
      ],
      "execution_count": null,
      "outputs": []
    },
    {
      "cell_type": "code",
      "metadata": {
        "colab": {
          "base_uri": "https://localhost:8080/"
        },
        "id": "bkbxutEQ1HwI",
        "outputId": "359fe840-c77d-48ba-9d76-9890f400087d"
      },
      "source": [
        "#Enter Full Names\n",
        "print(\"Enter First and Last Name:\")\n",
        "fname = input(\"First Name\") #First Name\n",
        "lname = input(\"Last Name\") #last Name\n",
        "fullnames = fname + \" \" + lname\n",
        "\n",
        "#Enter phone, email\n",
        "print('Enter Customer\\'s Phone Number: ')\n",
        "phone = input('phone')\n",
        "print('Enter Customer\\'s email aaddress: ')\n",
        "email = input('Email')\n",
        "\n",
        "#price of a used car\n",
        "price = 10000\n",
        "has_good_credit = True\n",
        "\n",
        "if has_good_credit:\n",
        "    down_payment = 0.1 * price\n",
        "else:\n",
        "    down_payment = 0.2 * price\n",
        "\n",
        "print(f\"Down Payment: {down_payment}\")\n",
        "print('')\n",
        "print(\"Full Names:\" +fullnames)\n",
        "print(\"Phone: \" +phone)\n",
        "print(\"Email: \" + email)\n",
        "print(\"Down Payment: \", down_payment)"
      ],
      "execution_count": 8,
      "outputs": [
        {
          "output_type": "stream",
          "text": [
            "Enter First and Last Name:\n",
            "First NameGeorge\n",
            "Last NameNandi\n",
            "Enter Customer's Phone Number: \n",
            "phone987-908-0987\n",
            "Enter Customer's email aaddress: \n",
            "Emailaol.boys@aol.com\n",
            "Down Payment: 1000.0\n",
            "\n",
            "Full Names:George Nandi\n",
            "Phone: 987-908-0987\n",
            "Email: aol.boys@aol.com\n",
            "Down Payment:  1000.0\n"
          ],
          "name": "stdout"
        }
      ]
    },
    {
      "cell_type": "code",
      "metadata": {
        "id": "xvd0iPEftK-u"
      },
      "source": [
        ""
      ],
      "execution_count": null,
      "outputs": []
    }
  ]
}