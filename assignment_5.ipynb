{
  "nbformat": 4,
  "nbformat_minor": 0,
  "metadata": {
    "colab": {
      "name": "assignment 5",
      "provenance": [],
      "collapsed_sections": [],
      "authorship_tag": "ABX9TyPJW+sm+d5ZGhQHnpc51wQT",
      "include_colab_link": true
    },
    "kernelspec": {
      "name": "python3",
      "display_name": "Python 3"
    },
    "language_info": {
      "name": "python"
    }
  },
  "cells": [
    {
      "cell_type": "markdown",
      "metadata": {
        "id": "view-in-github",
        "colab_type": "text"
      },
      "source": [
        "<a href=\"https://colab.research.google.com/github/jwaswa/jacqui/blob/main/assignment_5.ipynb\" target=\"_parent\"><img src=\"https://colab.research.google.com/assets/colab-badge.svg\" alt=\"Open In Colab\"/></a>"
      ]
    },
    {
      "cell_type": "markdown",
      "metadata": {
        "id": "EdOpvlM_XAz2"
      },
      "source": [
        "You have done a very good job at Century 21st as a Python Developer. One day you saw a job\n",
        "advertisement for a Senior Programmer at the Canadian Space Agency on Indeed.com. Being\n",
        "who you are, you could not let the opportunity pass you by.\n",
        "Canadian Space Agency (CSA) is an equivalent of North America Space Agency (NASA) in the\n",
        "USA. They’re both known for their track records for hiring top-notch Scientists. You decided to\n",
        "give the opportunity a shot.\n",
        "Long behold you are lucky, and you actually landed the job as a Python and Database Senior\n",
        "Programmer/Scientist.\n",
        "Your first assignment is to design a simple computer program to help convert from Metric to SI\n",
        "units anything you all do at CSA which uses the same system as any other commonwealth\n",
        "country.\n",
        "You design a Program to come up with a software to convert:"
      ]
    },
    {
      "cell_type": "code",
      "metadata": {
        "colab": {
          "base_uri": "https://localhost:8080/",
          "height": 130
        },
        "id": "-HXW7KdvbluN",
        "outputId": "8f3baabb-cfa2-4d25-d8dc-8bffabfec647"
      },
      "source": [
        "\n",
        "#1A function to convert Fahrenheit to celsius\n",
        "celsius= 37.5\n",
        "fahrenheit=celsius*1.8+32\n",
        "\n",
        "Celsius =(fahrenheit-32)*5/9 \n",
        "fahrenheit=(celsius *9/5)+32\n",
        "Celsius=(\"enter the temperature\");\n",
        "fahrenheit =(celsius*9/5)+32\n",
        "print(\"%2f celsius /5\")\n",
        "\n",
        "#2 Convert  nautical to kilometres\n",
        "kms=float(input ('enter the distance'))\n",
        "nautical= float(input ('emter the distance'))\n",
        "kmv conv_factor=1.852\n",
        "nautical _mile =kms*nmconv_factor\n",
        "kilometers=nautical/nmconv_factor\n",
        "print('%0.3f nautical miles equal to %0.3f kilometres')\n",
        "\n"
      ],
      "execution_count": null,
      "outputs": [
        {
          "output_type": "error",
          "ename": "SyntaxError",
          "evalue": "ignored",
          "traceback": [
            "\u001b[0;36m  File \u001b[0;32m\"<ipython-input-1-06cb77e8999d>\"\u001b[0;36m, line \u001b[0;32m15\u001b[0m\n\u001b[0;31m    kmv conv_factor=1.852\u001b[0m\n\u001b[0m                  ^\u001b[0m\n\u001b[0;31mSyntaxError\u001b[0m\u001b[0;31m:\u001b[0m invalid syntax\n"
          ]
        }
      ]
    },
    {
      "cell_type": "code",
      "metadata": {
        "id": "kujk5ENuQWLX"
      },
      "source": [
        ""
      ],
      "execution_count": null,
      "outputs": []
    },
    {
      "cell_type": "markdown",
      "metadata": {
        "id": "cWzV2laKXEzW"
      },
      "source": [
        "\n"
      ]
    }
  ]
}