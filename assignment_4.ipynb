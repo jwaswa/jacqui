{
  "nbformat": 4,
  "nbformat_minor": 0,
  "metadata": {
    "colab": {
      "name": "assignment 4",
      "provenance": [],
      "collapsed_sections": [],
      "authorship_tag": "ABX9TyPt428ARWlaA1bRA8gATXOv",
      "include_colab_link": true
    },
    "kernelspec": {
      "name": "python3",
      "display_name": "Python 3"
    },
    "language_info": {
      "name": "python"
    }
  },
  "cells": [
    {
      "cell_type": "markdown",
      "metadata": {
        "id": "view-in-github",
        "colab_type": "text"
      },
      "source": [
        "<a href=\"https://colab.research.google.com/github/jwaswa/jacqui/blob/main/assignment_4.ipynb\" target=\"_parent\"><img src=\"https://colab.research.google.com/assets/colab-badge.svg\" alt=\"Open In Colab\"/></a>"
      ]
    },
    {
      "cell_type": "markdown",
      "metadata": {
        "id": "tnhk8KsX24ER"
      },
      "source": [
        "YOU HAVE BEEN HIRED FINALLY BY THE 21 Century as a Senior Programmer and you've been\n",
        "tasked to help in revamping their credit rating and loan issuing system. Just remember, your job\n",
        "is to make things happen. As a Sr. Developer in Python Programming, all the lights and\n",
        "attention are turned towards you and there is a job to be done to deliver this critical system on\n",
        "time.\n",
        "Your job is to design a simple program to allow the loan officer(s) to enter the customer\n",
        "particulars at the terminal and determine if a customer is credit worthy.\n",
        "Based on their loan officer's entry, your system is required to get the best desired results as\n",
        "shown below in the OUTPUT.\n",
        "Please, design a program to do the input entry, do the desired calculations and come up with\n",
        "the needed requirements and output them as needed.\n",
        "Please consider all the needed variable. If you need to add any, please do add if need is there."
      ]
    },
    {
      "cell_type": "code",
      "metadata": {
        "colab": {
          "base_uri": "https://localhost:8080/"
        },
        "id": "4m4wAVv-viO1",
        "outputId": "4a9ca711-12f1-4d4f-daac-3e288758406c"
      },
      "source": [
        "#enter the price of the house you wish to buy\n",
        "#enter first name\n",
        "print(\"Enter first name \")\n",
        "firstname = input()\n",
        "#enter last name\n",
        "print(\"Enter last name \")\n",
        "lastname = input()\n",
        "#enter the email\n",
        "print(\"enter the email address \")\n",
        "email = input()\n",
        "#enter the mailing\n",
        "print(\"enter the mailing address \")\n",
        "mailing = input()\n",
        "#enter city\n",
        "print(\"Enter the city \")\n",
        "city = input()\n",
        "#enter zipcode\n",
        "print(\"Enter zipcode\")\n",
        "zipcode = input()\n",
        "print(\"enter the house price \")\n",
        "price = float(input())\n",
        "#enter the credit score\n",
        "print(\"enter the credit score \")\n",
        "creditscore = input()\n",
        "print(\"Name: \" + firstname + lastname)\n",
        "print(\"Email Address: \" + email)\n",
        "print(\"Mailing Addres: \" + mailing)\n",
        "print(\"City: \" + city)\n",
        "print(\"Zipcode: \" + zipcode)\n",
        "print(\"Price of house: \" + str(price))\n",
        "\n",
        "#Qualify for loans with the best interest rate\n",
        "if creditscore >= 780 and creditscore <= 850: \n",
        "    print(\"excellent score\")\n",
        "    print(\"zero down payment\")\n",
        "\n",
        "    downpayment=0.0*price\n",
        "#usually qualify for loans with the best interest rates\n",
        "elif creditscore >= 740 and creditscore <= 779:\n",
        "   print(\"very good\")\n",
        "   downpayment = 0.2*price\n",
        "#may face slightly higher loan interest rates\n",
        "elif creditscore >= 720 and creditscore <= 739:\n",
        "    downpayment = 0.3*price\n",
        "    print(\"above average\")\n",
        "#may qualify for most loans of higher interest rates\n",
        "elif creditscore >= 680 and creditscore <= 719:\n",
        "    downpayment = 0.6 * price\n",
        "    print(\"average\")\n",
        "    \n",
        "elif creditscore >= 620 and creditscore <= 679:\n",
        "#may qualify for most loans at significant higher rates\n",
        "    print(\"below average\")\n",
        "    downpayment = 0.18*price\n",
        "#usually has some credit issues will probably not qualify for most loans\n",
        "elif creditscore >= 580 and creditscore <=619:\n",
        "    print(\"poor credit score\")\n",
        "else: \n",
        "    print(\"poor credit score\")\n",
        "    downpayment=0.25*price"
      ],
      "execution_count": 8,
      "outputs": [
        {
          "output_type": "stream",
          "text": [
            "Enter first name \n",
            "jjjj\n",
            "Enter last name \n",
            "was\n",
            "enter the email address \n",
            "eme\n",
            "enter the mailing address \n",
            "404\n",
            "Enter the city \n",
            "acwo\n",
            "Enter zipcode\n",
            "30303\n",
            "enter the house price \n",
            "3000000\n",
            "enter the credit score \n",
            "780\n",
            "Name: jjjjwas\n",
            "Email Address: eme\n",
            "Mailing Addres: 404\n",
            "City: acwo\n",
            "Zipcode: 30303\n",
            "Price of house: 3000000.0\n",
            "average\n"
          ],
          "name": "stdout"
        }
      ]
    },
    {
      "cell_type": "markdown",
      "metadata": {
        "id": "DYYN9wP61_oe"
      },
      "source": [
        ""
      ]
    },
    {
      "cell_type": "markdown",
      "metadata": {
        "id": "aUYZF0wOzyQb"
      },
      "source": [
        ""
      ]
    }
  ]
}