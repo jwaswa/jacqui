{
  "nbformat": 4,
  "nbformat_minor": 0,
  "metadata": {
    "colab": {
      "name": "Untitled0.ipynb",
      "provenance": [],
      "authorship_tag": "ABX9TyMPm+uZezm98wslvML615ok",
      "include_colab_link": true
    },
    "kernelspec": {
      "name": "python3",
      "display_name": "Python 3"
    },
    "language_info": {
      "name": "python"
    }
  },
  "cells": [
    {
      "cell_type": "markdown",
      "metadata": {
        "id": "view-in-github",
        "colab_type": "text"
      },
      "source": [
        "<a href=\"https://colab.research.google.com/github/jwaswa/jacqui/blob/main/Assignment1.ipynb\" target=\"_parent\"><img src=\"https://colab.research.google.com/assets/colab-badge.svg\" alt=\"Open In Colab\"/></a>"
      ]
    },
    {
      "cell_type": "code",
      "metadata": {
        "id": "kHfZEHv3fuUA"
      },
      "source": [
        "names = input(\"enter first name\")\n",
        "print(names)\n",
        "\n",
        "name2 = input(\"enter second name\")\n",
        "print(name2)\n",
        "\n",
        "#enter country of origin\n",
        "country =input(\"enter country of origin\")\n",
        "print(country)\n",
        "#enter the nature of your job\n",
        "job=input(\"enter your job\")\n",
        "#enter your email\n",
        "email= input(\"enter email\")\n",
        "print(email)"
      ],
      "execution_count": null,
      "outputs": []
    }
  ]
}